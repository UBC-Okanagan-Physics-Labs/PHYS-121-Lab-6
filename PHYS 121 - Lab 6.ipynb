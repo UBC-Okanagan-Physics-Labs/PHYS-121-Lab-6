{
 "cells": [
  {
   "cell_type": "markdown",
   "id": "d8aa3528",
   "metadata": {
    "deletable": false,
    "editable": false,
    "tags": []
   },
   "source": [
    "# <div style=\"background-color:rgba(204, 229, 255, 0.5); text-align:center; vertical-align: middle; padding:40px 0; margin-top:30px\"><span style=\"color:rgba(0, 76, 153, 1);\">**PHYS 121 Lab #6**<span style=\"color:red\"> $\\to$ (18 possible marks)</span> </span></div> \n",
    "\n",
    "<font size =\"4\"><span style=\"color:purple\">We recommend that you complete this notebook using either the [Google Chrome](https://www.google.com/intl/en_ca/chrome/) or [Mozilla Firefox](https://www.mozilla.org/en-CA/firefox/new/) browser.  Chrome and Firefox are both available for Windows, Mac, and Linux operating systems.  The PHYS 121 Jupyter notebooks should work in other browsers, but we have specifically verfied that they work well in both Chrome and Firefox.</span></font>\n",
    "\n",
    "# Electric $RC$ Circuits"
   ]
  },
  {
   "cell_type": "markdown",
   "id": "67ff17a1",
   "metadata": {
    "deletable": false,
    "editable": false,
    "tags": []
   },
   "source": [
    "***\n",
    "## Learning Objectives:\n",
    "* <b><span style=\"color:rgba(0, 153, 76, 1);\">Implement automated data collection to acquire large sets of high-quality data in a short period of time.</span></b>\n",
    "* <b><span style=\"color:rgba(0, 153, 76, 1);\">Assemble and study $RC$ circuits using breadboads.</span></b>"
   ]
  },
  {
   "cell_type": "markdown",
   "id": "dcb519d0",
   "metadata": {
    "deletable": false,
    "editable": false,
    "tags": []
   },
   "source": [
    "***\n",
    "## Autograding:\n",
    "The PHYS 121 Pre-lab assignments and Labs will make use of some autograding.  To make the autograding work, the two cells below needs to be executed.  The first one installs the required packages and the second imports required packages/modules.  If 'PHYS121.Installer()' reports that some functions have been installed, the user should restart the \"kernel\" and then exectute the PHYS121.Installer() cell a second time.  The second time the installer function is run, it should report that **\"All packages already installed. Please proceed\"**.\n",
    "\n",
    "If necessary, the kernel can be restarted by selecting **Kernel** $\\to$ **Restart Kernel** from the menu options at to the top of the page.  Here is a <a href = \"https://raw.githubusercontent.com/UBC-Okanagan-Physics-Labs/PHYS-121-images/main/general/gifs/restartKernel.gif\">GIF</a> showing how to restart the kernel.\n",
    "\n",
    "The 'PHYS121.Installer()' command requires the file 'PHYS121.py', which you should see included in the list of files along the left-hand side of the screen."
   ]
  },
  {
   "cell_type": "code",
   "execution_count": null,
   "id": "24da1dd7",
   "metadata": {
    "deletable": false,
    "editable": false,
    "tags": []
   },
   "outputs": [],
   "source": [
    "# Import PHYS121.py and then run the installer function.\n",
    "import PHYS121\n",
    "PHYS121.Installer()"
   ]
  },
  {
   "cell_type": "code",
   "execution_count": null,
   "id": "f93dd1bf",
   "metadata": {
    "deletable": false,
    "editable": false,
    "tags": []
   },
   "outputs": [],
   "source": [
    "# Initialize Otter\n",
    "import otter\n",
    "grader = otter.Notebook(\"PHYS 121 - Lab 6.ipynb\")"
   ]
  },
  {
   "cell_type": "markdown",
   "id": "12c0cfdd",
   "metadata": {
    "deletable": false,
    "editable": false,
    "tags": []
   },
   "source": [
    "***\n",
    "## Import Modules:\n",
    "Execute the cell below to import a number of useful pre-built Python modules that will be used in the PHYS 121 pre-labs and labs."
   ]
  },
  {
   "cell_type": "code",
   "execution_count": null,
   "id": "a78b94c6",
   "metadata": {},
   "outputs": [],
   "source": [
    "import numpy as np\n",
    "import matplotlib.pyplot as plt\n",
    "from matplotlib.pyplot import cm # used to generate a sequence of colours for plotting\n",
    "import pandas as pd\n",
    "import scipy.stats as sp\n",
    "from scipy.optimize import curve_fit\n",
    "from IPython.display import HTML as html_print\n",
    "from IPython.display import display, Markdown, Latex"
   ]
  },
  {
   "cell_type": "markdown",
   "id": "baa212ad",
   "metadata": {
    "deletable": false,
    "editable": false,
    "tags": []
   },
   "source": [
    "# <div style=\"background-color:rgba(255, 204, 255, 0.5); text-align:center; vertical-align: middle; padding:40px 0; margin-top:30px\"><span style=\"color:rgba(102, 0, 204, 1);\">Name & Student Number</span></div>  \n",
    "\n",
    "To ensure that both you and your partner receive credit for you lab work, both your name and student number and your partner's name and student number need to appear in the notebooks used during the labs.  In the cells below this text, enter your name and student number and your partner's name and student number as strings (i.e. place your names and student numbers between single or double quotes.\n",
    "\n",
    "Examples of valid entries are:\n",
    "```python\n",
    "last_name_1 = 'Doe'\n",
    "first_name_1 = 'Jane'\n",
    "student_number_1 = '12345678'\n",
    "```\n",
    "and\n",
    "```python\n",
    "last_name_1 = \"Doe\"\n",
    "first_name_1 = \"John\"\n",
    "student_number_1 = \"12345678\"\n",
    "```"
   ]
  },
  {
   "cell_type": "markdown",
   "id": "4d234bbd",
   "metadata": {
    "deletable": false,
    "editable": false,
    "tags": []
   },
   "source": [
    "<!-- BEGIN QUESTION -->\n",
    "\n",
    "***\n",
    "### **<span style=\"color:blue\">Partner #1</span>** **<span style=\"color:red\">(0.5 marks)</span>** "
   ]
  },
  {
   "cell_type": "code",
   "execution_count": null,
   "id": "87290082",
   "metadata": {
    "tags": []
   },
   "outputs": [],
   "source": [
    "# Enter LAST name of partner 1.  Delete the ... below and type your entry between the single quotes.\n",
    "# Once you've completed your entry, press SHIFT + ENTER to execute the cell.\n",
    "# *** Please do not change anything to the left of the equals sign. ***\n",
    "last_name_1 = ..."
   ]
  },
  {
   "cell_type": "code",
   "execution_count": null,
   "id": "074b288b",
   "metadata": {
    "tags": []
   },
   "outputs": [],
   "source": [
    "# Enter FIRST name of partner 1.  Delete the ... below and type your entry between the single quotes.\n",
    "# Once you've completed your entry, press SHIFT + ENTER to execute the cell.\n",
    "# *** Please do not change anything to the left of the equals sign. ***\n",
    "first_name_1 = ..."
   ]
  },
  {
   "cell_type": "code",
   "execution_count": null,
   "id": "dccf6448",
   "metadata": {
    "tags": []
   },
   "outputs": [],
   "source": [
    "# Enter STUDENT NUMBER of partner 1.  Delete the ... below and type your entry between the single quotes.\n",
    "# Once you've completed your entry, press SHIFT + ENTER to execute the cell.\n",
    "# *** Please do not change anything to the left of the equals sign. ***\n",
    "student_number_1 = ..."
   ]
  },
  {
   "cell_type": "markdown",
   "id": "dac35bd4",
   "metadata": {
    "deletable": false,
    "editable": false,
    "tags": []
   },
   "source": [
    "***\n",
    "### **<span style=\"color:blue\">Partner #2</span>** **<span style=\"color:red\">(0.5 marks)</span>** \n",
    "If you are working on your own, leave all of last_name_2, first_name_2, and student_number_2 as ...  Please still exectute these cells and then run the 'grader.check(\"name_and_student_number_2\")' cell."
   ]
  },
  {
   "cell_type": "code",
   "execution_count": null,
   "id": "26078fd5",
   "metadata": {
    "tags": []
   },
   "outputs": [],
   "source": [
    "# Enter LAST name of partner 2.  Delete the ... below and type your entry between the single quotes.\n",
    "# Once you've completed your entry, press SHIFT + ENTER to execute the cell.\n",
    "# *** Please do not change anything to the left of the equals sign. ***\n",
    "last_name_2 = ..."
   ]
  },
  {
   "cell_type": "code",
   "execution_count": null,
   "id": "ea79c90c",
   "metadata": {
    "tags": []
   },
   "outputs": [],
   "source": [
    "# Enter FIRST name of partner 2.  Delete the ... below and type your entry between the single quotes.\n",
    "# Once you've completed your entry, press SHIFT + ENTER to execute the cell.\n",
    "# *** Please do not change anything to the left of the equals sign. ***\n",
    "first_name_2 = ..."
   ]
  },
  {
   "cell_type": "code",
   "execution_count": null,
   "id": "8c455ec7",
   "metadata": {
    "tags": []
   },
   "outputs": [],
   "source": [
    "# Enter STUDENT NUMBER of partner 2.  Delete the ... below and type your entry between the single quotes.\n",
    "# Once you've completed your entry, press SHIFT + ENTER to execute the cell.\n",
    "# *** Please do not change anything to the left of the equals sign. ***\n",
    "student_number_2 = ..."
   ]
  },
  {
   "cell_type": "code",
   "execution_count": null,
   "id": "abe49b0e",
   "metadata": {
    "deletable": false,
    "editable": false
   },
   "outputs": [],
   "source": [
    "grader.check(\"name_and_student_number\")"
   ]
  },
  {
   "cell_type": "markdown",
   "id": "7ca9cba0",
   "metadata": {
    "deletable": false,
    "editable": false,
    "tags": []
   },
   "source": [
    "<!-- END QUESTION -->\n",
    "\n",
    "# <div style=\"background-color:rgba(255, 204, 255, 0.5); text-align:center; vertical-align: middle; padding:40px 0; margin-top:30px\"><span style=\"color:rgba(102, 0, 204, 1);\">Part 1 - Introduction (20 minutes)</span></div>\n",
    "\n",
    "## Automated Data Collection...\n",
    "\n",
    "So far in the PHYS 121 lab, we have intentionally had you collect data manually so as to help develop your data-collection skills.  However, there are many situations in which automating the data collection with the help of appropriate hardware and software has clear advantages.  Some examples include:\n",
    "\n",
    " - when one is required to repeat a measurement many thousands of times, it is obviously not practical to do it manually\n",
    " - when one is required to collect data over many days, weeks, months, or years; it is not practical for an individual to continuously monitor the experiment\n",
    " - when data must be collected over very short time intervals, we need to make use of fast electronics to collect the data for us\n",
    " \n",
    "In today's lab, you will collect data while a capacitor charges (**Part 2**) and discharges (**Part 3**).  You will collect hundreds of data points over the span of about one minute.  The maximum data collection rate you will use is $10\\rm\\ samples~per~second$.  Clearly, we're not able to collect data manually at that rate.  In order to automate the data collection we will use hardware and software (LoggerPro) developed by Vernier.  If you completed PHYS 111 at UBCO, you will already have some familiarity with this equipment.  \n",
    "\n",
    "\n",
    "## Breadboards...\n",
    "\n",
    "In this lab, you will use a *breadboard* to build the circuits that you will study. A schematic diagram of the layout of a breadboard is shown in **Fig. 1**.  Breadboards contain arrays of terminals (holes/receptacles) that can be used to quickly assemble and prototype circuits.  \n",
    "\n",
    "<p>\n",
    "<center>\n",
    "<img src=\"https://raw.githubusercontent.com/UBC-Okanagan-Physics-Labs/PHYS-121-images/1e4ae36bc6d64d6d1f3264ac008dfa197d472459/Lab-6/images/breadboard.svg\" alt=\"Series RC Circuit\" style=\"width: 20%; height: auto;\" /><br>\n",
    "<b>Fig. 1: Schematic diagram of a breadboad used to build and test circuits.  Image taken from FreeSVG.org: <a href = \"https://freesvg.org/breadboardexplained\">https://freesvg.org/breadboardexplained</a>.</b>\n",
    "</center>\n",
    "</p>\n",
    "\n",
    "**Figure 1** shows that the columns of terminals are labeled $+$, $-$, a, b, c, d, e, f, g, h, i, and j.  If you look carefully at the figure, or look at the breadboard at your station, every fifth row of \"terminal strips\" is numbered.  Here's what you need to know about the breadboard terminals:\n",
    "\n",
    " - All of the terminals in a single column labelled $+$ are connected to one another.  These \"power terminals\" are next to a <span style=\"color:red\">red</span> line. \n",
    " - All of the terminals in a single column labelled $-$ are connected to one another.  These \"power terminals\" are next to a <span style=\"color:blue\">blue</span> line.\n",
    " - The $+$ and $-$ power terminals are **NOT** connected to one another.  That is, they're **isolated** from one another.\n",
    " - If there are multiple columns of $+$ power terminals, they are **isolated** from one another.\n",
    " - If there are multiple columns of $-$ power terminals, they are **isolated** from one another.\n",
    " - The a, b, c, d, and e terminals in a *single* row/\"terminal strip\" are connected to one another.\n",
    " - The f, g, h, i, and j terminals in a *single* row/\"terminal strip\" are connected to one another.\n",
    " - The a, b, c, d, and e terminals in a particular row are **isolated** from the f, g, h, i, and j terminals in same row.  Put another way, \"terminal strips\" on either side of a \"divider\" are **NOT** connected, even if they are in the same row.\n",
    " - Terminal strips in different rows are always isolated from one another.\n",
    " \n",
    "Once you become comfortable with the layout of breadboards and the internal connections between terminals, they can be used to very quickly assemble and study electric circuits.\n",
    "\n",
    "\n",
    "## Resistors...\n",
    "\n",
    "In this lab, you study circuits made of resistors and capacitors.  Resistors typically have coloured lines painted on them.  These colours are used to indicate the nominal value of the resistor and its tolerance.  **Figure 2** below shows how to decipher the resistor colour code.\n",
    "\n",
    "<p>\n",
    "<center>\n",
    "<img src=\"https://raw.githubusercontent.com/UBC-Okanagan-Physics-Labs/PHYS-121-images/fc60f70a48f3b1631c735f58fdb20747a1dd89cc/Lab-6/images/resistorcolourv.svg\" alt=\"Resistor colour code\" style=\"width: 30%; height: auto;\" /><br>\n",
    "<b>Fig. 2: Colour code used to read the nominal value of a resistor and its tolerance.  Image taken from FreeSVG.org: <a href = \"https://freesvg.org/resistorcolourv4\">https://freesvg.org/resistorcolourv4</a>.</b>\n",
    "</center>\n",
    "</p>\n",
    "\n",
    "You will be using resistors with four bands of colour as shown at the top of the figure.  As you can see from the figure, one of the bands (the one on the right) has a noticeably larger gap between it and the next nearest colour.  This band is used to specify the tolorance of the resistor.  The resistor that you'll be using probably has a gold tolerance band which means that the tolerance is $\\pm 5\\%$.  The other three bands are used to specify the value of the resistance.  Starting from the left:\n",
    "\n",
    " - The first band gives the first digit in the value of the resistance.  It is the $X$ in $R = (XY)\\times(\\mathrm{multiplier})$.  In **Fig. 2**, the leftmost band of the top resistor is <span style=\"color:green\">green</span> which corresponds to $X = 5$\n",
    " - The second band gives the second digit in the value of the resistance.  It is the $Y$ in $R = (XY)\\times(\\mathrm{multiplier})$.  In **Fig. 2**, the second band of the top resistor is <span style=\"color:blue\">blue</span> which corresponds to $Y = 6$\n",
    " - The third band gives the value of the $\\mathrm{multiplier}$ in $R = (XY)\\times(\\mathrm{multiplier})$.  In **Fig. 2**, the third band of the top resistor is <span style=\"color:orange\">orange</span> which corresponds to a $\\mathrm{multiplier}$ of $1\\rm k = 1000$.\n",
    " - As already discussed, the rightmost band is <span style=\"color:gold\">gold</span> which corresponds to a tolerance of $\\pm 5\\%$.\n",
    " \n",
    "Therefore, the value of the top resistor in **Fig. 2** is\n",
    "\n",
    "\\begin{align}\n",
    "R &= (XY)\\times(\\mathrm{multiplier})\\pm\\mathrm{tolerance}\\\\\n",
    " &= (56)\\times(1000)\\rm\\ \\Omega\\pm 5\\%\\\\\n",
    " &= \\left(56,000\\pm 3,000\\right)\\rm\\ \\Omega\\\\\n",
    "\\therefore R &= \\left(56\\pm 3\\right)\\rm\\ k\\Omega\n",
    "\\end{align}\n",
    "\n",
    "Another way to think about the resistor colour code is $R = \\left(XY\\right)\\times 10^N$, where $N$ specifiues the value of the power.  The values of $X$ and $Y$ are exactly as describe above and $N$ is given by the colour of the third band.  For the top resistor in **Fig. 2**, the third band is <span style=\"color:orange\">orange</span> which corresponds to $N = 3$ such that:\n",
    "\n",
    "\\begin{align}\n",
    "R &= (XY)\\times 10^N\\pm\\mathrm{tolerance}\\\\\n",
    " &= (56)\\times 10^3\\rm\\ \\Omega\\pm 5\\%\\\\\n",
    "\\therefore R &= \\left(56\\pm 3\\right)\\rm\\ k\\Omega\n",
    "\\end{align}\n",
    "\n",
    "exactly as before.  The advantage of this method is that one only needs to remember the number assigned to each colour (there's no separate multiplier value to remember).  **Figure 3** gives the sequence of colours and their corresponding assigned numbers.\n",
    "\n",
    "<p>\n",
    "<center>\n",
    "<img src=\"https://raw.githubusercontent.com/UBC-Okanagan-Physics-Labs/PHYS-121-images/main/Lab-6/images/roygbiv.jpg\" alt=\"RoyGBiv\" style=\"width: 12.5%; height: auto;\" /><br>\n",
    "<b>Fig. 3: The resistor colour code when using $R = \\left(XY\\right)\\times 10^N$.  Image obtained and adapted from flickr: <a href = \"https://www.flickr.com/photos/plusea/35822892803/in/photostream/\">https://www.flickr.com/photos/plusea/35822892803/in/photostream/</a></b>\n",
    "</center>\n",
    "</p>\n",
    "\n",
    "A minor disadvantage of this method is that it doesn't work if the third band is gold or silver, but those are very uncommon cases.\n",
    "\n",
    "The observant student may have noticed that the sequence of colours in **Fig. 3** at least partially reproduces the sequence of colours in the rainbow as shown below in **Fig. 4**.\n",
    "\n",
    "<p>\n",
    "<center>\n",
    "<img src=\"https://raw.githubusercontent.com/UBC-Okanagan-Physics-Labs/PHYS-121-images/main/Lab-6/images/rainbow.svg\" alt=\"Rainbow\" style=\"width: 40%; height: auto;\" /><br>\n",
    "<b>Fig. 4: The sequence of colours in a rainbow.  Image obtained from the Wikimedia Commons collection: <a href = \"https://commons.wikimedia.org/wiki/File:SVG_Rainbow_half_arc_continous_colors-purpleinside.svg\">https://commons.wikimedia.org/wiki/File:SVG_Rainbow_half_arc_continous_colors-purpleinside.svg</a></b>\n",
    "</center>\n",
    "</p>\n",
    "\n",
    "A common acronym for remembering the sequence of colours in the rainbow or, equivalently, the sequence of colours in the visible-light spectrum is: **Roy G. Biv**.\n",
    "\n",
    "\\begin{align}\n",
    "\\mathrm{R} \\to&\\, \\mathbf{R}\\mathrm{ed}\\\\\n",
    "\\mathrm{o} \\to&\\, \\mathbf{o}\\mathrm{range}\\\\\n",
    "\\mathrm{y} \\to&\\, \\mathbf{y}\\mathrm{ellow}\\\\\n",
    "\\\\\n",
    "\\mathrm{G} \\to&\\, \\mathbf{G}\\mathrm{reen}\\\\\n",
    "\\\\\n",
    "\\mathrm{B} \\to&\\, \\mathbf{B}\\mathrm{lue}\\\\\n",
    "\\mathrm{i} \\to&\\, \\mathbf{i}\\mathrm{ndigo}\\\\\n",
    "\\mathrm{v} \\to&\\, \\mathbf{v}\\mathrm{iolet}\n",
    "\\end{align}\n",
    "\n",
    "It can be difficult to distinguish between <span style=\"color:indigo\">indigo</span> and <span style=\"color:violet\">violet</span>, so the resistor colour code omits <span style=\"color:indigo\">indigo</span>.  You also have to remember that the resistor code starts with:\n",
    "\n",
    "\\begin{align}\n",
    "\\mathrm{black}\\to&\\, 0\\\\\n",
    "\\mathrm{brown}\\to&\\, 1\n",
    "\\end{align}\n",
    "\n",
    "and then ends with: \n",
    "\n",
    "\\begin{align}\n",
    "\\mathrm{grey}\\to&\\, 8\\\\\n",
    "\\mathrm{white}\\to&\\, 9\n",
    "\\end{align}\n",
    "\n",
    "If it helps, one way to remember these parts of the colour code is that the dark colours (black and brown) are synonymous with the absence of light and come first in the sequence.  On the other hand, the light colours (white and grey) are the blend of all colours and come at the end of the sequence.\n",
    "\n",
    "\n"
   ]
  },
  {
   "cell_type": "markdown",
   "id": "ef7e0035",
   "metadata": {
    "deletable": false,
    "editable": false,
    "tags": []
   },
   "source": [
    "***\n",
    "**<span style=\"color:blue\">Question 1.1</span>** **<span style=\"color:red\">(1 mark)</span>**  \n",
    "\n",
    "Consider the resistor shown below.\n",
    "\n",
    "<p>\n",
    "<center>\n",
    "<img src=\"https://raw.githubusercontent.com/UBC-Okanagan-Physics-Labs/PHYS-121-images/main/Lab-6/images/resistor.svg\" alt=\"Resistor\" style=\"width: 35%; height: auto;\" /><br>\n",
    "<b>Fig. 6: A resistor with four colour bands colour.  Image obtained and adapted from FreeSVG.org: <a href = \"https://freesvg.org/resistor-114185\">https://freesvg.org/resistor-114185</a>.</b>\n",
    "</center>\n",
    "</p>\n",
    "\n",
    "\n",
    "Based the resistor colour code, the value and tolerance of this resistor is:\n",
    "\n",
    "(a) $R = \\left(670\\pm 70\\right)\\rm\\ \\Omega$  \n",
    "(b) $R = \\left(670\\pm 3\\right)\\rm\\ k\\Omega$  \n",
    "(c) $R = \\left(67\\pm 7\\right)\\rm\\ k\\Omega$  \n",
    "(d) $R = \\left(670\\pm 30\\right)\\rm\\ k\\Omega$  \n",
    "(e) $R = \\left(670\\pm 70\\right)\\rm\\ k\\Omega$    "
   ]
  },
  {
   "cell_type": "markdown",
   "id": "a0af1e07",
   "metadata": {
    "deletable": false,
    "editable": false,
    "tags": []
   },
   "source": [
    "***\n",
    "**<span style=\"color:blue\">Answer 1.1:</span>**\n",
    "\n",
    "Replace the ... in the cell below with your answer.  Your answer should be a single character (a, b, c, d, or e) between single or double quotes.  \n",
    "\n",
    "For this question, grader.check() only checks that a valid response has been entered.  It does **not** check if the correct response has been entered. \n",
    "\n",
    "*** Please do not change anything to the left of the equals sign. ***"
   ]
  },
  {
   "cell_type": "code",
   "execution_count": null,
   "id": "ade7933c",
   "metadata": {
    "tags": []
   },
   "outputs": [],
   "source": [
    "a1_1 = ..."
   ]
  },
  {
   "cell_type": "code",
   "execution_count": null,
   "id": "54e9a7ec",
   "metadata": {
    "deletable": false,
    "editable": false
   },
   "outputs": [],
   "source": [
    "grader.check(\"q1.1\")"
   ]
  },
  {
   "cell_type": "markdown",
   "id": "1f287d5b",
   "metadata": {
    "deletable": false,
    "editable": false,
    "tags": []
   },
   "source": [
    "***\n",
    "## Capacitors...\n",
    "\n",
    "A capacitor is a device that stores electric potential energy. Any two conductors separated by an insulating medium (which could be air) can be considered a capacitor. This experiment is designed to allow you to experimentally explore some of the properties of capacitors.  There are many different types of capacitors.  The style that will be used in this lab is called an *electrolytic* capacitor and is shown in **Fig. 7**.\n",
    "\n",
    "<p>\n",
    "<center>\n",
    "<img src=\"https://raw.githubusercontent.com/UBC-Okanagan-Physics-Labs/PHYS-121-images/main/Lab-6/images/cap.png\" alt=\"Capacitor\" style=\"width: 25%; height: auto;\" /><br>\n",
    "<b>Fig. 7: An example of the type of \"electrolytic\" capacitor used in this lab. These capacitors are polarized meaning they must be placed in the circuit with a specific orientation. The longer lead is the \"+\" side while the shorter lead is the \"-\" side. Many electrolytic capacitors also have a series \"$-$\" symbols along one side of the capacitor to indicate which lead is negative.  The $-$ signs can be seen in the figure inside the grey band that runs along the length of the capacitor.</b>\n",
    "</center>\n",
    "</p>\n",
    "\n",
    "The capacitance $C$ is defined to be the ratio of the charge $q$ on each conductor of the capacitor to the voltage difference $V_C$ across the pair of conductors:\n",
    "\n",
    "\\begin{align}\n",
    "C = {\\dfrac{q}{V_C}}\n",
    "\\label{eq:charge} \\tag{1}\n",
    "\\end{align}\n",
    "\n",
    "Capacitance has SI units of Farads $(\\rm F)$. A capacitor with a capacitance of one Farad is capable of storing a large amount of energy. Typical capacitors found in electrical circuits range in values from $10^{-12}\\rm\\ F$ $(1 \\rm pF)$ to $10^{-3}\\rm\\ F$ $(1 \\rm mF)$.  You will be working with capacitances that are in the milli-Farad range.\n",
    "\n",
    "In this lab you will experimentally investigate the charging and discharging of capacitors and the characteristics exhibited by simple resistor-capacitor $(RC)$ circuits when a time-varying voltage is applied. "
   ]
  },
  {
   "cell_type": "markdown",
   "id": "022e8e93",
   "metadata": {
    "deletable": false,
    "editable": false,
    "tags": []
   },
   "source": [
    "# <div style=\"background-color:rgba(255, 204, 255, 0.5); text-align:center; vertical-align: middle; padding:40px 0; margin-top:30px\"><span style=\"color:rgba(102, 0, 204, 1);\">Part 2 - Charging a Capacitor at a Constant Rate (60 minutes)</span></div>\n",
    "\n",
    "Use a breadboard to construct the circuit in **Fig. 8**. \n",
    "<p>\n",
    "<center>\n",
    "<img src=\"https://raw.githubusercontent.com/UBC-Okanagan-Physics-Labs/PHYS-121-images/main/Lab-6/images/series_circuit.png\" alt=\"Series RC Circuit\" style=\"width: 30%; height: auto;\" /><br>\n",
    "<b>Fig. 8: Series $RC$ circuit and differential voltage probes used in **Part 2**.</b>\n",
    "</center>\n",
    "</p>\n",
    "\n",
    "Recall that in Lab #4 you measured the current in a long wire which served as our resistor.  For that measurement, the current meter (ammeter) had to be placed in *series* with the wire.  To measure a voltage across a component (such as a resistor, capacitor, or battery), the voltmeter needs to be placed in *parallel* with the component. **Figure 2** show two voltage measurements - one across a $10\\rm\\ k\\Omega$ resistor and another across a $2200\\rm\\ \\mu F = 2.2\\rm\\ mF$ capacitor.  Notice that, in each case, the one terminal of the voltage probe is connected to the left side of the component and the other is connected to the right side of the component which completes the parallel connection.  Notice also that the positive lead of the voltage probe (<span style=\"color:red\">red</span> wire) is connected to the side of the component closest to the positive terminal of the power supply and the negative lead (black wire) is connected closest to the negative terminal of the power supply.\n",
    "\n",
    "If the power supply attached to the capacitor is set to a fixed voltage, the flow of charge to the capacitor will decrease as the capacitor charges.  We saw in Lab #5 that:\n",
    "\n",
    "$$\n",
    "q(t) = q_\\infty\\left(1 - e^{-t/\\tau}\\right)\n",
    "$$\n",
    "\n",
    "where $\\tau = RC$ is the time constant.  However, if the current is held constant, the rate of flow of charge onto the capacitor plates is also constant since $I = \\Delta q/\\Delta t$. By continously adjusting the output voltage of the power supply, you should be able to keep the current in the circuit constant as the capacitor accumulates charge. For a constant current $I$, the charge $\\Delta q$ added to each plate of the capacitor in time $\\Delta t$ is given by $\\Delta q = I\\, \\Delta t$.\n"
   ]
  },
  {
   "cell_type": "markdown",
   "id": "1a18c5b9",
   "metadata": {
    "deletable": false,
    "editable": false,
    "tags": []
   },
   "source": [
    "***\n",
    "**<span style=\"color:blue\">Question 2.1</span>** **<span style=\"color:red\">(1 mark)</span>**  \n",
    "\n",
    "In the code cell below, input the printed values for the capacitance and resistance along with their associated uncertainties. Be sure to input the uncertainties as a value and not a percentage.  Resistors are assumed to have a $5\\%$ uncertainty and capacitors are assumed to have a $20\\%$ uncertainty.\n",
    "\n",
    "Replace the ... in the cell below with your answer. \n",
    "\n",
    "*** Please do not change anything to the left of the equals sign. ***"
   ]
  },
  {
   "cell_type": "code",
   "execution_count": null,
   "id": "626ab6b4",
   "metadata": {
    "tags": []
   },
   "outputs": [],
   "source": [
    "# Enter the printed values for the capcitance and resistance along with their associated uncertainties.\n",
    "C = ...\n",
    "dC = ...\n",
    "R = ...\n",
    "dR = ..."
   ]
  },
  {
   "cell_type": "code",
   "execution_count": null,
   "id": "e53f97ae",
   "metadata": {
    "deletable": false,
    "editable": false
   },
   "outputs": [],
   "source": [
    "grader.check(\"q2.1\")"
   ]
  },
  {
   "cell_type": "markdown",
   "id": "209c0c83",
   "metadata": {
    "deletable": false,
    "editable": false,
    "tags": []
   },
   "source": [
    "Plug two sets of differential voltage probes into CH1 and CH2 of the LabPro unit. Connect the leads of the voltage probes to the circuit, being sure to follow the polarities shown in **Fig. 8**.\n",
    "\n",
    "Open LoggerPro on the lab computer at your station and click on the <img src=\"https://raw.githubusercontent.com/UBC-Okanagan-Physics-Labs/PHYS-121-images/main/Lab-6/images/sensor_icon.png\" alt=\"Sensor Icon\" style=\"width: 3%; height: auto; display: inline; vertical-align: middle;\" /> icon and make sure that the voltage probes are connected properly. If you do not see the <img src=\"https://raw.githubusercontent.com/UBC-Okanagan-Physics-Labs/PHYS-121-images/main/Lab-6/images/sensor_icon.png\" alt=\"Sensor Icon\" style=\"width: 3%; height: auto; display: inline; vertical-align: bottom;\" /> icon, then you need to click \"Experiment\" $\\to$ \"Connect Interface\" $\\to$ \"Com1\".\n",
    "\n",
    "\n",
    "Next, click on the <img src=\"https://raw.githubusercontent.com/UBC-Okanagan-Physics-Labs/PHYS-121-images/main/Lab-6/images/clock_icon.png\" alt=\"Clock Icon\" style=\"width: 3%; height: auto; display: inline; vertical-align: middle;\" /> icon and change the experiment length to $60\\rm\\ seconds$. Set the sampling rate to $10\\rm\\ samples~per~second$.\n",
    "\n",
    "Manually scale the $y$-axis from $-0.1$ to $2\\rm\\ V$ by right clicking on the graph and clicking on graph options. Click on the axes tab and you should be able to set the drop down menu to manually scale the axes. Rename each of your columns to a more descriptive titles than “Potential 1” or “Potential 2” by right clicking on the data table and selecting each column under column options. Change the respective columns to \"VC\" and \"VR\". Make sure you include appropriate units and make sure that column name VR actually corresponds to the resistor voltage (and not the capacitor voltage).  Name the time column \"Time\".\n",
    "\n",
    "Fully discharge the capacitor by touching the capacitor’s terminals together. Turn the power supply down to 0 volts and then zero all of the sensors. Click on <img src=\"https://raw.githubusercontent.com/UBC-Okanagan-Physics-Labs/PHYS-121-images/main/Lab-6/images/start_icon.png\" alt=\"Start Icon\" style=\"width: 3%; height: auto; display: inline; vertical-align: middle;\" /> and continously increase the power supply so $V_\\mathrm{R}$ stays steady at $1.0\\rm\\ V$. <i>This requires some practice and reruns.</i>  Repeat the measurement until you are satisfied that resistor voltage remains relatively constant $1.0\\rm\\ V$ for the duration of the $60\\rm\\ s$ measurement. "
   ]
  },
  {
   "cell_type": "markdown",
   "id": "4f4c92e2",
   "metadata": {
    "deletable": false,
    "editable": false,
    "tags": []
   },
   "source": [
    "<!-- BEGIN QUESTION -->\n",
    "\n",
    "***\n",
    "**<span style=\"color:blue\">Question 2.2</span>** **<span style=\"color:red\">(2 marks)</span>**  \n",
    "\n",
    "Next, the LoggerPro data needs to be imported into your Jupyter notebook. To do this, you'll need to export the data from LoggerPro by selecting \"File\" $\\to$ \"Export as\" $\\to$ \"CSV...\". \n",
    "\n",
    "In order for your submission to be graded properly, the file that you export **MUST** be named:\n",
    "\n",
    "```\n",
    "Lab_6_Part_2_Data.csv\n",
    "```\n",
    "\n",
    "Keep track of where you save this file and then locate the folder containing the csv file you created.  Next, use the mouse to drag and drop \"Lab_6_Part_2_Data.csv\" into the frame along the left-hand side of the screen. This will add the data file to the same folder the contains this notebook so that it can be imported into a dataframe for further analysis.  If you need help, here is a <a href=\"https://raw.githubusercontent.com/UBC-Okanagan-Physics-Labs/PHYS-121-images/main/Lab-6/gifs/draganddrop.gif\">GIF</a> that shows you how to complete the drag and drop.\n",
    "\n",
    "\n",
    "*** Please do not change anything in the cell below. ***"
   ]
  },
  {
   "cell_type": "code",
   "execution_count": null,
   "id": "ea55e53d",
   "metadata": {
    "deletable": false,
    "editable": false,
    "tags": []
   },
   "outputs": [],
   "source": [
    "# Hitting 'Shift' + 'Enter' will import the file and a data table will be printed below.\n",
    "part2_filename = 'Lab_6_Part_2_Data.csv'\n",
    "df2 = pd.read_csv(part2_filename, usecols=[\"Latest: Time (s)\", \"Latest: VR (V)\", \"Latest: VC (V)\"])\n",
    "\n",
    "# Give the dateFrame columns more convenient (shorter) names\n",
    "df2.rename(columns={\"Latest: Time (s)\": \"Time\", \"Latest: VR (V)\": \"VR\", \"Latest: VC (V)\": \"VC\"}, inplace = True)\n",
    "\n",
    "# Display the dateFrame\n",
    "df2"
   ]
  },
  {
   "cell_type": "code",
   "execution_count": null,
   "id": "64160405",
   "metadata": {
    "deletable": false,
    "editable": false
   },
   "outputs": [],
   "source": [
    "grader.check(\"q2.2\")"
   ]
  },
  {
   "cell_type": "markdown",
   "id": "949ff9d3",
   "metadata": {
    "deletable": false,
    "editable": false,
    "tags": []
   },
   "source": [
    "<!-- END QUESTION -->\n",
    "\n",
    "<!-- BEGIN QUESTION -->\n",
    "\n",
    "***\n",
    "**<span style=\"color:blue\">Question 2.3</span>** **<span style=\"color:red\">(1 mark)</span>**  \n",
    "\n",
    "Start by plotting $V_R$, $V_C$, and $V_R + V_C$ versus $t$ all in the same graph.  By the Kirchhoff voltage-loop rule, the sum of the voltages across the resistor and capacitor must be equal to the voltage supplied by the power supply. \n",
    "\n",
    "To make the plot, we'll use a PHYS121.py function called 'MulitScatter()'.  This function is similiar to 'Scatter()', but instead of inputting single lists of 'xData' and 'yData', we input multiple pair of x and y datasets using the following format:\n",
    "```python\n",
    "DataArray = [[xData1, yData1],\n",
    "             [xData2, yData2],\n",
    "             [xData3, yData3]]\n",
    "```\n",
    "The example above shows three set of data, but you can include as many datasets as you'd like.\n",
    "\n",
    "Note that, for the plot that we wish to construct:\n",
    "```python\n",
    "xData1 = xData2 = xData3 = df2[\"Time\"]\n",
    "```\n",
    "\n",
    "In the cell below, replace the instances of ... with the appropriate column from the dataFrame df2.  One should be the resistor voltage, one should be the capacitor voltage, and one should the sum of the resistor and capacitor voltages (i.e. the voltage supplied by the power supply).\n",
    "\n",
    "For additional information about the 'MultiScatter()' function, see **Appendix A** near the end of this notebook.   \n",
    "\n",
    "*** Please do not change anything to the left of the equals sign. ***"
   ]
  },
  {
   "cell_type": "code",
   "execution_count": null,
   "id": "9aff22cb",
   "metadata": {
    "tags": []
   },
   "outputs": [],
   "source": [
    "fig1 = PHYS121.MultiScatter(DataArray = [\n",
    "                                         [df2[\"Time\"], ...], # First dataset\n",
    "                                         [df2[\"Time\"], ...], # Second dataset\n",
    "                                         [df2[\"Time\"], ...] # Third dataset\n",
    "                                         ],\n",
    "                                         xlabel = 'Time',\n",
    "                                         ylabel = 'Voltage', \n",
    "                                         xUnits = 's', \n",
    "                                         yUnits = 'V')"
   ]
  },
  {
   "cell_type": "markdown",
   "id": "8e76dbec",
   "metadata": {
    "deletable": false,
    "editable": false,
    "tags": []
   },
   "source": [
    "<!-- END QUESTION -->\n",
    "\n",
    "The plot above should show that, shortly after starting the data collection, $V_C = q/C$ increases linearly with time when $V_R = I/R$ is held constant and the power supply voltage is increased linearly. \n",
    "\n",
    "We'll now calculate the current $I$ and charge on the capacitor $q$ as a function of time using:\n",
    "\n",
    "\\begin{align}\n",
    "I = \\frac{V_\\mathrm{R}}{R}\n",
    "\\tag{2}\n",
    "\\end{align}\n",
    "\n",
    "and:\n",
    "\n",
    "\\begin{align}\n",
    "q = I \\Delta t\n",
    "\\tag{3}\n",
    "\\end{align}"
   ]
  },
  {
   "cell_type": "markdown",
   "id": "594541d9",
   "metadata": {
    "deletable": false,
    "editable": false,
    "tags": []
   },
   "source": [
    "***\n",
    "**<span style=\"color:blue\">Question 2.4</span>** **<span style=\"color:red\">(1 mark)</span>**  \n",
    "\n",
    "Use the cell below to calculate the current and add it as another column in your DataFrame. Recall you can access all values of a DataFrame column (such as your resistor voltages) as a list using the syntax:\n",
    "```python \n",
    "df2[\"VR\"]\n",
    "```\n",
    "\n",
    "*** Please do not change anything to the left of the equals sign. ***"
   ]
  },
  {
   "cell_type": "code",
   "execution_count": null,
   "id": "fb59a216",
   "metadata": {
    "tags": []
   },
   "outputs": [],
   "source": [
    "# Create a new columns in your DataFrame with the current I.\n",
    "df2[\"I\"] = ...\n",
    "df2"
   ]
  },
  {
   "cell_type": "code",
   "execution_count": null,
   "id": "795116c9",
   "metadata": {
    "deletable": false,
    "editable": false
   },
   "outputs": [],
   "source": [
    "grader.check(\"q2.4\")"
   ]
  },
  {
   "cell_type": "markdown",
   "id": "b9be2229",
   "metadata": {
    "deletable": false,
    "editable": false,
    "tags": []
   },
   "source": [
    "***\n",
    "**<span style=\"color:blue\">Question 2.5</span>** **<span style=\"color:red\">(1 mark)</span>**  \n",
    "\n",
    "Use the cell below to calculate the charge and add it as another column in your DataFrame. Recall you can access all values of a DataFrame column (such as the current) as a list using the syntax:\n",
    "```python \n",
    "df2[\"I\"]\n",
    "```\n",
    "\n",
    "*** Please do not change anything to the left of the equals sign. ***"
   ]
  },
  {
   "cell_type": "code",
   "execution_count": null,
   "id": "cef18583",
   "metadata": {
    "tags": []
   },
   "outputs": [],
   "source": [
    "# Create a new columns in your DataFrame with the current I.\n",
    "df2[\"q\"] = ...\n",
    "df2"
   ]
  },
  {
   "cell_type": "code",
   "execution_count": null,
   "id": "25b665ac",
   "metadata": {
    "deletable": false,
    "editable": false
   },
   "outputs": [],
   "source": [
    "grader.check(\"q2.5\")"
   ]
  },
  {
   "cell_type": "markdown",
   "id": "2d9fdf4c",
   "metadata": {
    "deletable": false,
    "editable": false,
    "tags": []
   },
   "source": [
    "<!-- BEGIN QUESTION -->\n",
    "\n",
    "***\n",
    "**<span style=\"color:blue\">Question 2.6</span>** **<span style=\"color:red\">(1 mark)</span>**  \n",
    "\n",
    "Now that we've created columns in our DataFrame for the capacitor charge $q$, we can generate a plot of $q$ versus the capacitor voltage $V_C$.  Rearranging Eq. $(1)$ allows us to express $q$ as a linear function of $V_C$:\n",
    "\n",
    "$$\n",
    "q = C\\,V_C\n",
    "$$\n",
    "\n",
    "\n",
    "Use the 'LinearFit()' function from PHYS121.py to plot $q$ versus $V_C$ and fit a straight line to the data.\n",
    "\n",
    "Fill in the missing data needed when calling the 'LinearFit()' function.  Remember that the 'LinearFit()' function accepts arrays or lists as inputs - to call a column from a DataFrame as a list, use the syntax:\n",
    "```python\n",
    "df2[\"Column Name\"]\n",
    "```\n",
    "\n",
    "For additional information about the 'LinearFit()' function, see **Appendix B** near the end of this notebook.   \n",
    "\n",
    "*** Please do not change anything to the left of the equals sign. ***"
   ]
  },
  {
   "cell_type": "code",
   "execution_count": null,
   "id": "2ba23a39",
   "metadata": {
    "tags": []
   },
   "outputs": [],
   "source": [
    "m2, b2, dm2, db2, fig2 = PHYS121.LinearFit(xData = ..., \n",
    "                                      yData = ..., \n",
    "                                      xlabel = 'Capacitor Voltage', \n",
    "                                      ylabel = 'Charge', \n",
    "                                      xUnits = 'V', \n",
    "                                      yUnits = 'C')"
   ]
  },
  {
   "cell_type": "markdown",
   "id": "9af80038",
   "metadata": {
    "deletable": false,
    "editable": false,
    "tags": []
   },
   "source": [
    "<!-- END QUESTION -->\n",
    "\n",
    "***\n",
    "**<span style=\"color:blue\">Question 2.7</span>** **<span style=\"color:red\">(1 mark)</span>**  \n",
    "\n",
    "The slope value is equivalent to the experimental value for the capacitance (i.e. slope $= C$). Recall the SI units for capacitance are Farads. The value of our capacitor is specified in microfarads. Use the cell below to convert the capacitance (and its uncertainity) obtained from the slope above into units of microfarads.\n",
    "\n",
    "**REMEMBER**: The values of the slope and its uncertainty are already stored in variables called **m2** and **dm2**. See **Question 2.5** above.\n",
    "\n",
    "*** Please do not change anything to the left of the equals sign. ***"
   ]
  },
  {
   "cell_type": "code",
   "execution_count": null,
   "id": "eec80f84",
   "metadata": {
    "tags": []
   },
   "outputs": [],
   "source": [
    "C_exp = ...\n",
    "dC_exp = ...\n",
    "print(f'The experimental capacitance is {C_exp:.1f} +/- {dC_exp:.1f} uF')\n",
    "print(f'The nominal capacitance is {C*1e6:.1f} +/- {dC*1e6:.1f} uF')"
   ]
  },
  {
   "cell_type": "code",
   "execution_count": null,
   "id": "99300d0f",
   "metadata": {
    "deletable": false,
    "editable": false
   },
   "outputs": [],
   "source": [
    "grader.check(\"q2.7\")"
   ]
  },
  {
   "cell_type": "markdown",
   "id": "170710d0",
   "metadata": {
    "deletable": false,
    "editable": false,
    "tags": []
   },
   "source": [
    "<!-- BEGIN QUESTION -->\n",
    "\n",
    "***\n",
    "**<span style=\"color:blue\">Question 2.8</span>** **<span style=\"color:red\">(1 mark)</span>** \n",
    "\n",
    "How does the exeprimental value of capacitance compare to the nominal value stated on the capacitor? (i.e. Compare the two values of $C$ and take into consideration their uncertainties. Are they within experimental uncertainty of each other?) If they aren't within exeprimental uncertainty of each other, what are some reasons you can think of that might cause the observed difference?"
   ]
  },
  {
   "cell_type": "markdown",
   "id": "85a5fd73",
   "metadata": {},
   "source": [
    "***\n",
    "**<span style=\"color:blue\">Answer 2.8:</span>**\n",
    "\n",
    "[//]: # (Please do not delete this comment or anything above it.  Anything below this comment can be deleted.)  \n",
    "\n",
    "Double click this cell and enter your text.  When done, hit 'Shift' + 'Enter' to execute the cell.  You may delete this text after entering your answer. \n",
    "***"
   ]
  },
  {
   "cell_type": "markdown",
   "id": "783c4461",
   "metadata": {
    "deletable": false,
    "editable": false,
    "tags": []
   },
   "source": [
    "<!-- END QUESTION -->\n",
    "\n",
    "# <div style=\"background-color:rgba(255, 204, 255, 0.5); text-align:center; vertical-align: middle; padding:40px 0; margin-top:30px\"><span style=\"color:rgba(102, 0, 204, 1);\">Part 3 - Discharging a Capacitor (40 minutes)</span></div>\n",
    "\n",
    "If a charged capacitor is discharged through a resistor starting at $t=0$, the charge $q$ varies with time as:\n",
    "\n",
    "$$\n",
    "q = q_0e^{-t/\\tau}\n",
    "$$\n",
    "\n",
    "where $q_0$ is the initial charge at $t = 0$ and $\\tau = RC$ is the familiar time constant.  Since the voltage across a capacitor is equal to $V_C = Q/C$, the time dependence of the voltage across a discharging capacitor can also be expressed as:\n",
    "\n",
    "\\begin{align}\n",
    "V_C = V_0e^{-t/\\tau}\n",
    "\\tag{5}\n",
    "\\end{align}\n",
    "\n",
    "where the initial voltage is related to the initial charge via $V_0 = q_0/C$.\n",
    "\n",
    "Assemble the circuit shown below in **Fig. 9**.  Connect the differential voltage probe to measure the voltage across either the capacitor or resistor.  Recall that, because the capacitor and resistor are in parallel in this circuit, they must always have the *same* voltage across them. Set up LoggerPro to collect voltage as a function of time. Once again, click on the <img src=\"https://raw.githubusercontent.com/UBC-Okanagan-Physics-Labs/PHYS-121-images/main/Lab-6/images/clock_icon.png\" alt=\"Clock Icon\" style=\"width: 3%; height: auto; display: inline; vertical-align: middle;\" /> icon and change experiment length to $60\\rm\\ seconds$ and collect $3\\rm\\ samples~per~second$.  For this measurement, please label your LoggerPro columns as \"Time\" and \"V\".  Once again, include appropriate units.\n",
    "\n",
    "<p>\n",
    "<center>\n",
    "<img src=\"https://raw.githubusercontent.com/UBC-Okanagan-Physics-Labs/PHYS-121-images/main/Lab-6/images/parallel_circuit.png\" alt=\"Parallel RC Circuit\" style=\"width: 50%; height: auto;\" /><br>\n",
    "<b>Fig. 3: Parallel $RC$ circuit and differential voltage probe used in Part 3 of this experiment.</b>\n",
    "</center>\n",
    "</p>\n",
    "\n",
    "First, charge the capacitor to an initial voltage $V_0$ that is less than $6.0\\rm\\ V$. Next, simultaneously disconnect the power supply by pulling one of the leads out of the power supply (rather than just turning it off) and press <img src=\"https://raw.githubusercontent.com/UBC-Okanagan-Physics-Labs/PHYS-121-images/main/Lab-6/images/start_icon.png\" alt=\"Start Icon\" style=\"width: 3%; height: auto; display: inline; vertical-align: middle;\" /> to start the data collection."
   ]
  },
  {
   "cell_type": "markdown",
   "id": "3a018c16",
   "metadata": {
    "deletable": false,
    "editable": false,
    "tags": []
   },
   "source": [
    "<!-- BEGIN QUESTION -->\n",
    "\n",
    "***\n",
    "**<span style=\"color:blue\">Question 3.1</span>** **<span style=\"color:red\">(2 marks)</span>**  \n",
    "\n",
    "Once again, we need to import the data into this notebook. To do this, you'll need to first export the data from LoggerPro by selecting \"File\" $\\to$ \"Export as\" $\\to$ \"CSV...\". \n",
    "\n",
    "In order for your submission to be graded properly, the file that you export **MUST** be named:\n",
    "\n",
    "```\n",
    "Lab_6_Part_3_Data.csv\n",
    "```\n",
    "\n",
    "Save this file to a known location on the lab computer.  Then drag and drop \"Lab_6_Part_3_Data.csv\" into the frame along the left-hand side of this screen.  If you need help with this process, here is the same <a href=\"https://raw.githubusercontent.com/UBC-Okanagan-Physics-Labs/PHYS-121-images/main/Lab-6/gifs/draganddrop.gif\">GIF</a> that was included with **Question 2.2**.\n",
    "\n",
    "*** Please do not change anything in the cell below. ***"
   ]
  },
  {
   "cell_type": "code",
   "execution_count": null,
   "id": "88b803ec",
   "metadata": {
    "tags": []
   },
   "outputs": [],
   "source": [
    "# Hitting 'Shift' + 'Enter' will import the file and a data table will be printed below.\n",
    "part3_filename = 'Lab_6_Part_3_Data.csv'\n",
    "df3 = pd.read_csv(part3_filename, usecols=[\"Latest: Time (s)\", \"Latest: V (V)\"])\n",
    "\n",
    "\n",
    "# Give the dateFrame columns more convenient (shorter) names\n",
    "df3.rename(columns={\"Latest: Time (s)\": \"Time\", \"Latest: V (V)\": \"V\"}, inplace = True)\n",
    "\n",
    "# Display the dateFrame\n",
    "df3"
   ]
  },
  {
   "cell_type": "code",
   "execution_count": null,
   "id": "4d28d550",
   "metadata": {
    "deletable": false,
    "editable": false
   },
   "outputs": [],
   "source": [
    "grader.check(\"q3.1\")"
   ]
  },
  {
   "cell_type": "markdown",
   "id": "87397579",
   "metadata": {
    "deletable": false,
    "editable": false,
    "tags": []
   },
   "source": [
    "<!-- END QUESTION -->\n",
    "\n",
    "<!-- BEGIN QUESTION -->\n",
    "\n",
    "***\n",
    "**<span style=\"color:blue\">Question 3.2</span>** **<span style=\"color:red\">(1 mark)</span>**  \n",
    "\n",
    "Next, use the 'Scatter()' function from PHYS121.py to plot the voltage across the resistor/capacitor (remember they're in parallel) as a function of time.\n",
    "\n",
    "Fill in the missing data needed when calling the 'Scatter()' function.  Remember that the scatter function accepts arrays or lists as inputs - to call a column from a DataFrame as a list, use the syntax:\n",
    "```python\n",
    "df3[\"Column Name\"] \n",
    "```\n",
    "\n",
    "For additional information about the 'Scatter()' function, see **Appendix C** near the end of this notebook.   \n",
    "\n",
    "*** Please do not change anything to the left of the equals sign. ***"
   ]
  },
  {
   "cell_type": "code",
   "execution_count": null,
   "id": "d5f6ab6d",
   "metadata": {
    "tags": []
   },
   "outputs": [],
   "source": [
    "PHYS121.Scatter(xData = ..., \n",
    "                yData = ..., \n",
    "                xlabel = 'Time', \n",
    "                ylabel = 'V', \n",
    "                xUnits = 's', \n",
    "                yUnits = 'V');"
   ]
  },
  {
   "cell_type": "markdown",
   "id": "0ee8f627",
   "metadata": {
    "deletable": false,
    "editable": false,
    "tags": []
   },
   "source": [
    "<!-- END QUESTION -->\n",
    "\n",
    "***\n",
    "**<span style=\"color:blue\">Question 3.3</span>** **<span style=\"color:red\">(1 mark)</span>**  \n",
    "\n",
    "We now want to use this data to determine the time constant $\\tau$. First, use the cell below to calculate the expected value of $\\tau$ and its uncertainty from the nominal values of $R$ and $C$.  Recall that you've already done this calculation as part of the Pre-Lab assignment!\n",
    "\n",
    "Replace the instances of ... in the cell below with the appropriate expressions needed to find $\\tau$ and its uncertainty.\n",
    "\n",
    "*** Please do not change anything to the left of the equals sign. ***"
   ]
  },
  {
   "cell_type": "code",
   "execution_count": null,
   "id": "b12db69f",
   "metadata": {
    "tags": []
   },
   "outputs": [],
   "source": [
    "# Calulate the expected value of tau and its uncertainty here \n",
    "tau = ...\n",
    "dtau = ..."
   ]
  },
  {
   "cell_type": "code",
   "execution_count": null,
   "id": "13a2324c",
   "metadata": {
    "deletable": false,
    "editable": false
   },
   "outputs": [],
   "source": [
    "grader.check(\"q3.3\")"
   ]
  },
  {
   "cell_type": "markdown",
   "id": "d6f81554",
   "metadata": {
    "deletable": false,
    "editable": false,
    "tags": []
   },
   "source": [
    "<!-- BEGIN QUESTION -->\n",
    "\n",
    "***\n",
    "**<span style=\"color:blue\">Question 3.4</span>** **<span style=\"color:red\">(1 mark)</span>**  \n",
    "\n",
    "Next, we want to linearize the data ploted in **Question 3.2**. The linearization can be done by plotting $\\ln(V)$ as a function of time. We can then use a linear fit to determine the slope of the line.\n",
    "\n",
    "**REMEMBER** that in Python $\\ln(x)$ must be entered as:\n",
    "```python\n",
    "np.log(x)\n",
    "```\n",
    "\n",
    "Fill in the missing data needed when calling the 'LinearFit()' function.  Remember that the scatter function accepts arrays or lists as inputs - to call a column from a DataFrame as a list, use the syntax\n",
    "```python\n",
    "df3[\"Column Name\"]\n",
    "```\n",
    "\n",
    "where 'df' is the name of the DataFrame in question.\n",
    "\n",
    "For additional information about the 'LinearFit()' function, see **Appendix B** near the end of this notebook.   \n",
    "\n",
    "*** Please do not change anything to the left of the equals sign. ***"
   ]
  },
  {
   "cell_type": "code",
   "execution_count": null,
   "id": "058d4344",
   "metadata": {
    "tags": []
   },
   "outputs": [],
   "source": [
    "m3, b3, dm3, db3, fig3 = PHYS121.LinearFit(xData = ..., \n",
    "                                           yData = ...,  \n",
    "                                           xlabel = 'Time', \n",
    "                                           ylabel = 'ln $(V)$', \n",
    "                                           xUnits = 's', \n",
    "                                           yUnits = '')"
   ]
  },
  {
   "cell_type": "markdown",
   "id": "d2f7e91f",
   "metadata": {
    "tags": []
   },
   "source": [
    "<!-- END QUESTION -->\n",
    "\n",
    "***\n",
    "**<span style=\"color:blue\">Question 3.5</span>** **<span style=\"color:red\">(1 mark)</span>**  \n",
    "\n",
    "Use the slope and its uncertainty to determine experimental values for the time constant $\\tau$ and its uncertainty.  Remember, you already did this calculation as part of the Pre-Lab assignment!  \n",
    "\n",
    "**NOTE**: The values of the slope and its uncertainty have already been stored in the variables **m3** and **dm3**, see **Question 3.4** above.  It is best to make use of these variable rather than manually typing in the numbers.\n",
    "\n",
    "*** Please do not change anything to the left of the equals sign. ***"
   ]
  },
  {
   "cell_type": "code",
   "execution_count": null,
   "id": "e2b1dca2",
   "metadata": {
    "tags": []
   },
   "outputs": [],
   "source": [
    "# Calculate the actual value of tau and its uncertainty here\n",
    "tau_exp = ...\n",
    "dtau_exp = ...\n",
    "\n",
    "print(f'The experimental time constant is {tau_exp:.3f} +/- {dtau_exp:.3f} s')\n",
    "print(f'The expected time constant is {tau:.3f} +/- {dtau:.3f} s')"
   ]
  },
  {
   "cell_type": "code",
   "execution_count": null,
   "id": "320bc5a3",
   "metadata": {
    "deletable": false,
    "editable": false
   },
   "outputs": [],
   "source": [
    "grader.check(\"q3.5\")"
   ]
  },
  {
   "cell_type": "markdown",
   "id": "a43e40c6",
   "metadata": {
    "deletable": false,
    "editable": false,
    "tags": []
   },
   "source": [
    "<!-- BEGIN QUESTION -->\n",
    "\n",
    "***\n",
    "**<span style=\"color:blue\">Question 3.6</span>** **<span style=\"color:red\">(1 mark)</span>** \n",
    "\n",
    "Compare the experimental time constant to the expected value calculated above with uncertainties. Are they within experimental uncertainty of each other? If they aren't within uncertainty of each other, what are some reasons you can think of that might cause this?"
   ]
  },
  {
   "cell_type": "markdown",
   "id": "e0f58604",
   "metadata": {},
   "source": [
    "***\n",
    "**<span style=\"color:blue\">Answer 3.6:</span>**\n",
    "\n",
    "[//]: # (Please do not delete this comment or anything above it.  Anything below this comment can be deleted.)  \n",
    "\n",
    "Double click this cell and enter your text.  When done, hit 'Shift' + 'Enter' to execute the cell.  You may delete this text after entering your answer.\n",
    "\n",
    "\n",
    "***"
   ]
  },
  {
   "cell_type": "markdown",
   "id": "9089a377",
   "metadata": {
    "deletable": false,
    "editable": false,
    "tags": []
   },
   "source": [
    "<!-- END QUESTION -->\n",
    "\n",
    "# <div style=\"background-color:rgba(255, 204, 255, 0.5); text-align:center; vertical-align: middle; padding:40px 0; margin-top:30px\"><span style=\"color:rgba(102, 0, 204, 1);\">Part 4 - Reflection and statement of contributions (20 minutes)</span></div>\n",
    "\n"
   ]
  },
  {
   "cell_type": "markdown",
   "id": "9bcfa405",
   "metadata": {
    "deletable": false,
    "editable": false,
    "tags": []
   },
   "source": [
    "***\n",
    "Below, you will briefly summarize the contributions that you and your partner made when completely this lab.  Please ensure that both partners have a chance to engage in all types of lab activities (developing the experimental methods/data collection strategies, hands-on interaction with the apparatus/data collection, and data processing/analysis in the Jupyter notebook).  Note that statements of contributions are common in science.  The figure below shows one example taken from a 2021 paper published in the journal *Nature Physics*.\n",
    "\n",
    "<p>\n",
    "<center>\n",
    "<img src=\"https://cmps-people.ok.ubc.ca/jbobowsk/PHYS_121_Lab/Lab1/images/contributions.jpg\" alt=\"image info\" style=\"width: 60%; height: auto;\" /><br>\n",
    "<b>Fig. 2: A sample statement of author contributions from a recent journal article.</b></center>\n",
    "</p>\n"
   ]
  },
  {
   "cell_type": "markdown",
   "id": "bac0c113",
   "metadata": {
    "deletable": false,
    "editable": false,
    "tags": []
   },
   "source": [
    "<!-- BEGIN QUESTION -->\n",
    "\n",
    "***\n",
    "**<span style=\"color:blue\">Question 4.1(a):</span>**  \n",
    "\n",
    "Answer this question only if you worked with a partner to complete this lab.\n",
    "\n",
    "In two or three sentences describe the specific contributions of **Partner A** to this lab.  For example, worked with the experimental apparatus to collect data for Part 1 of the lab, entered and processed the data in the Jupyter notebook for Part 2 of the lab, ...  "
   ]
  },
  {
   "cell_type": "markdown",
   "id": "a2842276",
   "metadata": {},
   "source": [
    "***\n",
    "**<span style=\"color:blue\">Answer 4.1(a):</span>**\n",
    "\n",
    "[//]: # (Please do not delete this comment or anything above it.  Anything below this comment can be deleted.)  \n",
    "\n",
    "Double click this cell and enter your text here.  Please start be entering the name and student number of **Partner A**.  When done, hit 'Shift' + 'Enter' to execute the cell.  You may delete this text when entering your answer. "
   ]
  },
  {
   "cell_type": "markdown",
   "id": "06bc6d20",
   "metadata": {
    "deletable": false,
    "editable": false,
    "tags": []
   },
   "source": [
    "<!-- END QUESTION -->\n",
    "\n",
    "<!-- BEGIN QUESTION -->\n",
    "\n",
    "***\n",
    "**<span style=\"color:blue\">Question 4.1(b):</span>**  \n",
    "\n",
    "Answer this question only if you worked with a partner to complete this lab.\n",
    "\n",
    "In two or three sentences describe the specific contributions of **Partner B** to this lab.  "
   ]
  },
  {
   "cell_type": "markdown",
   "id": "80cbed4b",
   "metadata": {},
   "source": [
    "***\n",
    "**<span style=\"color:blue\">Answer 4.1(b):</span>**\n",
    "\n",
    "[//]: # (Please do not delete this comment or anything above it.  Anything below this comment can be deleted.)  \n",
    "\n",
    "Double click this cell and enter your text here.  Please start be entering the name and student number of **Partner B**.  When done, hit 'Shift' + 'Enter' to execute the cell.  You may delete this text when entering your answer. "
   ]
  },
  {
   "cell_type": "markdown",
   "id": "ff72e575",
   "metadata": {
    "deletable": false,
    "editable": false,
    "tags": []
   },
   "source": [
    "<!-- END QUESTION -->\n",
    "\n",
    "# <div style=\"background-color:rgba(255, 204, 255, 0.5); text-align:center; vertical-align: middle; padding:40px 0; margin-top:30px\"><span style=\"color:rgba(102, 0, 204, 1);\">Part 5 - Submission (5 minutes)</span></div>"
   ]
  },
  {
   "cell_type": "markdown",
   "id": "fa7b02d4",
   "metadata": {
    "deletable": false,
    "editable": false,
    "tags": []
   },
   "source": [
    "<!-- BEGIN QUESTION -->\n",
    "\n",
    "***\n",
    "**<span style=\"color:blue\">Question 5.1:</span>**  \n",
    "\n",
    "We welcome your feedback on the PHYS 121 labs!  Please feel free to include any comments you have about this lab in the cell below.  Your comments will be taken into consideration when revising/improving the PHYS 121 labs.  You can suggest improvements, point out anything that was unclear, comment on the strengths and weaknesses of the lab, ...\n",
    "\n",
    "This question is optional and will have no impact on your lab grade."
   ]
  },
  {
   "cell_type": "markdown",
   "id": "040126bb",
   "metadata": {},
   "source": [
    "***\n",
    "**<span style=\"color:blue\">Answer 5.1:</span>**\n",
    "\n",
    "[//]: # (Please do not delete this comment or anything above it.  Anything below this comment can be deleted.)  \n",
    "\n",
    "Double click this cell and enter your text here.  When done, hit 'Shift' + 'Enter' to execute the cell.  You may delete this text when entering your answer. "
   ]
  },
  {
   "cell_type": "markdown",
   "id": "c26a5ff7",
   "metadata": {
    "deletable": false,
    "editable": false,
    "tags": []
   },
   "source": [
    "<!-- END QUESTION -->\n",
    "\n",
    "---\n",
    "\n",
    "To double-check your work, the cell below will rerun all of the autograder tests."
   ]
  },
  {
   "cell_type": "code",
   "execution_count": null,
   "id": "c6906021",
   "metadata": {
    "deletable": false,
    "editable": false,
    "tags": []
   },
   "outputs": [],
   "source": [
    "grader.check_all()"
   ]
  },
  {
   "cell_type": "markdown",
   "id": "9593b81e",
   "metadata": {
    "deletable": false,
    "editable": false,
    "tags": []
   },
   "source": [
    "***\n",
    "\n",
    "## Submission\n",
    "\n",
    "Make sure you have run all cells in your notebook in order before running the cell below, so that all images/graphs appear in the output. The cell below will generate a zip file for you to submit. **Please save before exporting!**\n",
    "\n",
    "Once you've completed this notebook:\n",
    "- Save your work.\n",
    "- Run 'grader.export()' to generate a .zip file containing all of the materials that you will submit.\n",
    "- Download the generated .zip file.\n",
    "- Upload the .zip file to the PHYS 121 Canvas gradebook.\n",
    "\n",
    "Here is a <a href = \"https://raw.githubusercontent.com/UBC-Okanagan-Physics-Labs/PHYS-121-images/main/general/gifs/Submission.gif\">GIF</a> showing how these steps are completed.  Once your completed notebook has been uploaded to the Canvas gradebook, you're done!"
   ]
  },
  {
   "cell_type": "code",
   "execution_count": null,
   "id": "e02f1cc4",
   "metadata": {
    "deletable": false,
    "editable": false,
    "tags": []
   },
   "outputs": [],
   "source": [
    "# Save your notebook first, then run this cell (place your cursor in the cell and then hit Shift + Enter) to export \n",
    "# your submission.  Uploaded the .zip file that is generated to the gradebook of the Canvas shell for the PHYS 121 lab.\n",
    "grader.export(files = [part2_filename, part3_filename])"
   ]
  },
  {
   "cell_type": "markdown",
   "id": "7ff55593",
   "metadata": {
    "deletable": false,
    "editable": false,
    "tags": []
   },
   "source": [
    "# <div style=\"background-color:rgba(255, 204, 255, 0.5); text-align:center; vertical-align: middle; padding:40px 0; margin-top:30px\"><span style=\"color:rgba(102, 0, 204, 1);\">Part  - Playground (optional)</span></div>\n",
    "\n",
    "Feel free to add as many cells as you like below and use them as a playground for further independent investigations.  These cells won't be graded, so feel free to use them in any way that you like.  "
   ]
  },
  {
   "cell_type": "code",
   "execution_count": null,
   "id": "a529527a",
   "metadata": {},
   "outputs": [],
   "source": [
    "# Here's an empty code cell that you can use.  "
   ]
  },
  {
   "cell_type": "code",
   "execution_count": null,
   "id": "742a5447",
   "metadata": {},
   "outputs": [],
   "source": [
    "# Here's another empty code cell that you can use."
   ]
  },
  {
   "cell_type": "code",
   "execution_count": null,
   "id": "92a495f3",
   "metadata": {},
   "outputs": [],
   "source": [
    "# Here's yet another empty code cell that you can use.  \n",
    "# If you need more, you can add cells using the '+' icon in the menu bar at to the top of the screen."
   ]
  },
  {
   "cell_type": "markdown",
   "id": "b874d45d",
   "metadata": {
    "deletable": false,
    "editable": false,
    "tags": []
   },
   "source": [
    "### <div style=\"background-color:rgba(255, 255, 102, 0.5); text-align:left; padding:20px 0; margin-top:20px\">$\\quad$Appendix A &ndash; The MultiScatter Function...</div>\n",
    "\n",
    "The function for generating multiple scatter plots on a single graph is called as follows:\n",
    "```python\n",
    "MultiScatter(DataArray, xlabel = 'x-axis', ylabel = 'y-axis', xUnits = '', yUnits = '')\n",
    "```\n",
    "The 'DataArray' input is required, all other arguments are optional with default values set.  The function returns the a single output (the formatted plot):\n",
    "```python\n",
    "fig\n",
    "```\n",
    "\n",
    "DataArray takes the form of nested lists: DataArray = [[x1, y1, dy1], [x2, y2], [x3, y3, dy3], ...], where x1, y1, dy1, x2, y2, ... are themselves lists.  Notice that each sublist ([x1, y1, dy1] or [x2, y2]) can be either two or three elements long.  If the sublist contains three elements, a scatter plot with error bars will be generated.  If the sublist contains only two elements, a scatter plot with no error bars will be generated.  'DataArray' can mix sublists with two and three elements.\n",
    "\n",
    "### MultiScatter Example Implmentation\n",
    "The code block below shows an implementation of 'MultiScatter'.\n",
    "```python\n",
    "import PHYS121\n",
    "V1 = [1, 2, 3, 4]\n",
    "I1 = [0.12, 0.198, 0.285, 0.412]\n",
    "errI1 = [0.005, 0.012, 0.020, 0.025]\n",
    "\n",
    "V2 = [1, 2, 3, 4, 5]\n",
    "I2 = [0.25, 0.31, 0.405, 0.602, .682]\n",
    "\n",
    "V3 = [1, 2, 3, 4]\n",
    "I3 = [0.05, 0.11, 0.155, 0.252]\n",
    "errI3 = [0.005, 0.012, 0.020, 0.025]\n",
    "\n",
    "V4 = np.array([1.5, 2.5, 3.5, 4.5])\n",
    "I4 = [0.05, -0.11, -0.155, -.23]\n",
    "\n",
    "DataArray = [[V1, I1, errI1], [V2, I2], [V3, I3, errI3], [V4, I4]]\n",
    "\n",
    "fig = PHYS121.MultiScatter(DataArray, 'time', 'position', 's', 'cm');\n",
    "```\n",
    "\n",
    "The example above is demonstrated in the code cell below.  Instead of entering the data using comma-separated lists, the data_entry function will be used to generate the required vectors.  The 'fig = ...' syntax is used to store the figure that is produced in a varible called 'fig'.\n",
    "***"
   ]
  },
  {
   "cell_type": "markdown",
   "id": "d9848c12",
   "metadata": {
    "deletable": false,
    "editable": false,
    "tags": []
   },
   "source": [
    "### <div style=\"background-color:rgba(255, 255, 102, 0.5); text-align:left; padding:20px 0; margin-top:20px\">$\\quad$Appendix B &ndash; The LinearFit Function...</div>\n",
    "\n",
    "The linear-fit function is called as follows:\n",
    "```python\n",
    "LinearFit(xData, yData, yErrors = [], xlabel = 'x-axis', ylabel = 'y-axis', xUnits = '', yUnits = '', fill = False)\n",
    "```\n",
    "The xData and yData lists are required.  The others are optional with default values set.  The function returns the following outputs:\n",
    "```python\n",
    "Slope, Yintercept, errSlope, errYintercept, fig\n",
    "```\n",
    "The first four outputs are numerical values and 'fig' is the formatted plot. \n",
    "\n",
    "If $y$-uncertainities are provided, the function will perform a weighted fit.  The $y$-uncertainties list must be the same length as $x$- and $y$-data lists.  If $y$-uncertainties are not provided, the fit will be unweighted.  The other optional arguments include $x$- and $y$-axis names and units for the $x$- and $y$-datasets.  These must be entered as strings (enclosed in quotations) and they are used for formatting the outputs of the function.  If 'fill' is set to True, shading will be added around the best-fit line representing confindence intervals. \n",
    "\n",
    "### Unweighted Fit Example Implmentation\n",
    "The code block below shows the most basic use of 'LinearFit' for an unweighted fit without any of the optional arguments.\n",
    "```python\n",
    "import PHYS121\n",
    "V = [1, 2, 3, 4]\n",
    "I = [0.12, 0.198, 0.285, 0.412]\n",
    "m, b, dm, db, fig = PHYS121.LinearFit(V, I)\n",
    "```\n",
    "\n",
    "### Weighted Fit Example Implmentation\n",
    "This second blcok of code shows how to use 'LinearFit' to do a weighted fit.  It also makes use of all of the other optional arguments.  \n",
    "```python\n",
    "import PHYS121\n",
    "V = [1, 2, 3, 4]\n",
    "I = [0.12, 0.198, 0.285, 0.412]\n",
    "errI = [0.005, 0.012, 0.020, 0.025]\n",
    "m, b, dm, db, fig = PHYS121.LinearFit(V, I, errI, 'voltage' , 'current', 'V', 'A', True)\n",
    "```\n",
    "\n",
    "The 'm, b, dm, db, fig = ...' syntax is used to store the function outputs in varibles.  If you're interested in details of the fitting process, see the following Python-based tutorial: https://cmps-people.ok.ubc.ca/jbobowsk/Python/html/Jupyter%20Weighted%20Linear%20Fit.html\n",
    "***"
   ]
  },
  {
   "cell_type": "markdown",
   "id": "79651a59",
   "metadata": {
    "deletable": false,
    "editable": false,
    "tags": []
   },
   "source": [
    "### <div style=\"background-color:rgba(255, 255, 102, 0.5); text-align:left; padding:20px 0; margin-top:20px\">$\\quad$Appendix C &ndash; The Scatter Function...</div>\n",
    "\n",
    "The function for generating scatter plots is called as follows:\n",
    "```python\n",
    "Scatter(xData, yData, yErrors = [], xlabel = 'x-axis', ylabel = 'y-axis', xUnits = '', yUnits = '', fill = False, show = True)\n",
    "```\n",
    "The 'xData' and 'yData' inputs are required, all other arguments are optional with default values set.  The function returns the a single output (the formatted plot):\n",
    "```python\n",
    "fig\n",
    "```\n",
    "\n",
    "The function will do a simple scatter plot if no 'yError' are included.  It will included error bars if 'yErrors' are passed to the function.  The 'fill' and 'show' arguments should generally be false.  \n",
    "\n",
    "If the 'xData' list is empty, as in:\n",
    "```python\n",
    "xData = []\n",
    "```\n",
    "then the x-axis will be the trial number.  For example, is 'xData' is empty and 'yData' has 10 elements, the x-axis will span 1 to 10.\n",
    "\n",
    "### Scatter Example Implmentation\n",
    "The code block below shows an implementation of 'Scatter'.\n",
    "```python\n",
    "import PHYS121\n",
    "theta = [10, 20, 30] # degrees\n",
    "T = [2.02, 1.95, 2.13] # s\n",
    "errT = [0.02, 0.02, 0.03] # s\n",
    "fig = PHYS121.Scatter(theta, T, errT, 'initial angle' , 'period', 'degrees', 's')\n",
    "```\n",
    "\n",
    "If you're interested in generating your own plots with customized formatting, see the following Python-based plotting tutorial: https://cmps-people.ok.ubc.ca/jbobowsk/Python/html/Jupyter%20Basic%20Plots.html.\n",
    "***"
   ]
  },
  {
   "cell_type": "markdown",
   "id": "ac6e581b",
   "metadata": {
    "deletable": false,
    "editable": false,
    "tags": []
   },
   "source": [
    "<img src=\"https://raw.githubusercontent.com/UBC-Okanagan-Physics-Labs/PHYS-121-images/main/general/images/ubc-logo-full.jpg\" width=\"500\"/>"
   ]
  },
  {
   "cell_type": "markdown",
   "id": "bd963ecc",
   "metadata": {},
   "source": [
    "Last update: March 9, 2023"
   ]
  }
 ],
 "metadata": {
  "kernelspec": {
   "display_name": "Python 3 (ipykernel)",
   "language": "python",
   "name": "python3"
  },
  "language_info": {
   "codemirror_mode": {
    "name": "ipython",
    "version": 3
   },
   "file_extension": ".py",
   "mimetype": "text/x-python",
   "name": "python",
   "nbconvert_exporter": "python",
   "pygments_lexer": "ipython3",
   "version": "3.10.6"
  },
  "otter": {
   "OK_FORMAT": true,
   "tests": {
    "name_and_student_number": {
     "name": "name_and_student_number",
     "points": null,
     "suites": [
      {
       "cases": [
        {
         "code": ">>> isinstance(last_name_1, str)\nTrue",
         "failure_message": "last_name_1 must be a string (i.e. surround your answer by either single or double quotes).",
         "hidden": false,
         "locked": false,
         "points": 0
        },
        {
         "code": ">>> isinstance(first_name_1, str)\nTrue",
         "failure_message": "first_name_1 must be a string (i.e. surround your answer by either single or double quotes).",
         "hidden": false,
         "locked": false,
         "points": 0
        },
        {
         "code": ">>> isinstance(student_number_1, str)\nTrue",
         "failure_message": "student_number_1 must be a string (i.e. surround your answer by either single or double quotes).",
         "hidden": false,
         "locked": false,
         "points": 0
        },
        {
         "code": ">>> test = True\n>>> if isinstance(student_number_1, str):\n...     test = len(student_number_1) == 8\n>>> test\nTrue",
         "failure_message": "student_number_1 must be a string of exactly 8 characters.",
         "hidden": false,
         "locked": false,
         "points": 0
        },
        {
         "code": ">>> test = True\n>>> if isinstance(student_number_1, str):\n...     test = student_number_1.isdigit()\n>>> test\nTrue",
         "failure_message": "student_number_1 must contain only interger digits (0, 1, 2, 3, ..., 9)",
         "hidden": false,
         "locked": false,
         "points": 0.5
        },
        {
         "code": ">>> isinstance(last_name_2, str) or last_name_2 == ...\nTrue",
         "failure_message": "last_name_2 must be a string (i.e. surround your answer by either single or double quotes).",
         "hidden": false,
         "locked": false,
         "points": 0
        },
        {
         "code": ">>> isinstance(first_name_2, str) or first_name_2 == ...\nTrue",
         "failure_message": "first_name_2 must be a string (i.e. surround your answer by either single or double quotes).",
         "hidden": false,
         "locked": false,
         "points": 0
        },
        {
         "code": ">>> isinstance(student_number_2, str) or student_number_2 == ...\nTrue",
         "failure_message": "student_number_2 must be a string (i.e. surround your answer by either single or double quotes).",
         "hidden": false,
         "locked": false,
         "points": 0
        },
        {
         "code": ">>> test = True\n>>> if isinstance(student_number_2, str):\n...     test = len(student_number_2) == 8\n>>> test\nTrue",
         "failure_message": "student_number_2 must be a string of exactly 8 characters or be left as ...",
         "hidden": false,
         "locked": false,
         "points": 0
        },
        {
         "code": ">>> test = True\n>>> if isinstance(student_number_2, str):\n...     test = student_number_2.isdigit()\n>>> test\nTrue",
         "failure_message": "student_number_2 must contain only interger digits (0, 1, 2, 3, ..., 9) or be left as ...",
         "hidden": false,
         "locked": false,
         "points": 0.5
        }
       ],
       "scored": true,
       "setup": "",
       "teardown": "",
       "type": "doctest"
      }
     ]
    },
    "q1.1": {
     "name": "q1.1",
     "points": null,
     "suites": [
      {
       "cases": [
        {
         "code": ">>> a1_1.lower() in [\"a\", \"b\", \"c\", \"d\", \"e\"]\nTrue",
         "failure_message": "Your answer must be a string of one of 'a', 'b', 'c', 'd', or 'e'.",
         "hidden": false,
         "locked": false,
         "points": 0
        }
       ],
       "scored": true,
       "setup": "",
       "teardown": "",
       "type": "doctest"
      }
     ]
    },
    "q2.1": {
     "name": "q2.1",
     "points": null,
     "suites": [
      {
       "cases": [
        {
         "code": ">>> np.isclose(C, 2200e-6, rtol=1e-02)\nTrue",
         "failure_message": "Capacitor value is incorrect.",
         "hidden": false,
         "locked": false,
         "points": 0.25
        },
        {
         "code": ">>> np.isclose(dC, C*0.2, rtol=1e-02)\nTrue",
         "failure_message": "Capacitor uncertainty is incorrect. Use the assumed uncertainty of 20%.",
         "hidden": false,
         "locked": false,
         "points": 0.25
        },
        {
         "code": ">>> np.isclose(R, 10e3, rtol=1e-02)\nTrue",
         "failure_message": "Resistor value is incorrect.",
         "hidden": false,
         "locked": false,
         "points": 0.25
        },
        {
         "code": ">>> np.isclose(dR, R*0.05, rtol=1e-02)\nTrue",
         "failure_message": "Resistor uncertainty is incorrect. Use the assumed uncertainty of 5%.",
         "hidden": false,
         "locked": false,
         "points": 0.25
        }
       ],
       "scored": true,
       "setup": "",
       "teardown": "",
       "type": "doctest"
      }
     ]
    },
    "q2.2": {
     "name": "q2.2",
     "points": null,
     "suites": [
      {
       "cases": [
        {
         "code": ">>> part2_filename == \"Lab_6_Part_2_Data.csv\"\nTrue",
         "failure_message": "The part2_filename must exactly match \"Lab_6_Part_2_Data.csv\".",
         "hidden": false,
         "locked": false,
         "points": 0
        },
        {
         "code": ">>> df2.shape[0] > 500\nTrue",
         "failure_message": "Not enough data points. Make sure to collect for a full 60 seconds, at 10 samples per second.",
         "hidden": false,
         "locked": false,
         "points": 0
        }
       ],
       "scored": true,
       "setup": "",
       "teardown": "",
       "type": "doctest"
      }
     ]
    },
    "q2.4": {
     "name": "q2.4",
     "points": null,
     "suites": [
      {
       "cases": [
        {
         "code": ">>> print(df2[\"I\"].size == df2.shape[0])\nTrue\n",
         "failure_message": "Length of your df2[\"I\"] doesn't match the length of your dataframe. Check you are calculating a current for every single entry of the resistor voltage.",
         "hidden": false,
         "locked": false,
         "points": 0
        }
       ],
       "scored": true,
       "setup": "",
       "teardown": "",
       "type": "doctest"
      }
     ]
    },
    "q2.5": {
     "name": "q2.5",
     "points": null,
     "suites": [
      {
       "cases": [
        {
         "code": ">>> print(df2[\"q\"].size == df2.shape[0])\nTrue\n",
         "failure_message": "Length of your df2[\"q\"] doesn't match the length of your dataframe. Check you are calculating a current for every single entry of the resistor voltage.",
         "hidden": false,
         "locked": false,
         "points": 0
        }
       ],
       "scored": true,
       "setup": "",
       "teardown": "",
       "type": "doctest"
      }
     ]
    },
    "q2.7": {
     "name": "q2.7",
     "points": null,
     "suites": [
      {
       "cases": [
        {
         "code": ">>> np.isclose(C_exp, m2*1e6, rtol=1e-02)\nTrue",
         "failure_message": "Check the conversion for C_exp - make sure you are converting from Farads to microfarads.",
         "hidden": false,
         "locked": false,
         "points": 0.5
        },
        {
         "code": ">>> np.isclose(dC_exp, dm2*1e6, rtol=1e-02)\nTrue",
         "failure_message": "Check the conversion for dC_exp - make sure you are converting from Farads to microfarads.",
         "hidden": false,
         "locked": false,
         "points": 0.5
        }
       ],
       "scored": true,
       "setup": "",
       "teardown": "",
       "type": "doctest"
      }
     ]
    },
    "q3.1": {
     "name": "q3.1",
     "points": null,
     "suites": [
      {
       "cases": [
        {
         "code": ">>> part3_filename == \"Lab_6_Part_3_Data.csv\"\nTrue",
         "failure_message": "The part3_filename must exactly match \"Lab_6_Part_3_Data.csv\".",
         "hidden": false,
         "locked": false,
         "points": 0
        },
        {
         "code": ">>> df3.shape[0] > 170\nTrue",
         "failure_message": "Not enough data points. Make sure to collect for a full 60 seconds, at 3 samples per second.",
         "hidden": false,
         "locked": false,
         "points": 0
        }
       ],
       "scored": true,
       "setup": "",
       "teardown": "",
       "type": "doctest"
      }
     ]
    },
    "q3.3": {
     "name": "q3.3",
     "points": null,
     "suites": [
      {
       "cases": [
        {
         "code": ">>> np.isclose(tau, R*C, rtol=1e-02)\nTrue",
         "failure_message": "Check your equation for how tau1 is being calculated.",
         "hidden": false,
         "locked": false,
         "points": 0.5
        },
        {
         "code": ">>> np.isclose(dtau, ((dR/R)+(dC/C))*R*C, rtol=1e-02)\nTrue",
         "failure_message": "Check your equation for how dtau1 is being calculated.",
         "hidden": false,
         "locked": false,
         "points": 0.5
        }
       ],
       "scored": true,
       "setup": "",
       "teardown": "",
       "type": "doctest"
      }
     ]
    },
    "q3.5": {
     "name": "q3.5",
     "points": null,
     "suites": [
      {
       "cases": [
        {
         "code": ">>> np.isclose(tau_exp, -1/m3, rtol=1e-02)\nTrue",
         "failure_message": "Check your equation for how tau2 is being calculated.",
         "hidden": false,
         "locked": false,
         "points": 0.5
        },
        {
         "code": ">>> np.isclose(dtau_exp, dm3/m3**2, rtol=1e-02)\nTrue",
         "failure_message": "Check your equation for how dtau2 is being calculated.",
         "hidden": false,
         "locked": false,
         "points": 0.5
        }
       ],
       "scored": true,
       "setup": "",
       "teardown": "",
       "type": "doctest"
      }
     ]
    }
   }
  },
  "vscode": {
   "interpreter": {
    "hash": "b870ad910a049d8ae52495743c7bc32c2e217ef524f139ca97c6947f4622129b"
   }
  }
 },
 "nbformat": 4,
 "nbformat_minor": 5
}
